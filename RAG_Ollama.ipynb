{
 "cells": [
  {
   "cell_type": "markdown",
   "metadata": {},
   "source": [
    "Loading pdf"
   ]
  },
  {
   "cell_type": "code",
   "execution_count": 32,
   "metadata": {},
   "outputs": [
    {
     "name": "stdout",
     "output_type": "stream",
     "text": [
      "Number of pages in the PDF: 2\n"
     ]
    },
    {
     "data": {
      "text/plain": [
       "'Junyuan Fang\\nSOFTWARE DEVELOPMENT · MULTiMODAL · DEEP LEARNiNG\\nHelsinki, Finland\\nGithub| Linkedin\\nEducation\\nUniversity of Helsinki Helsinki, Finland\\nMASTER OF SCiENCE iN COMPUTER SCiENCE 2023 – 2025(Feb. Expected)\\nBACHELOR OF SCiENCE iN COMPUTER SCiENCE 2021 – 2023\\nNational University of Singapore (NUS) Singapore\\nEXCHANGE iN COMPUTER SCiENCE BACHELOR STUDY 2022\\nProjects\\nEnd to end 3D scene reconstruction & open vocabulary understanding @AaltoVision\\n• Used 2D vision language LLM and novel reconstruction model implemented 3D point cloud reconstruction with language feature\\nembeddings in 3D, both 3D reconstruction and 3D segmentation can be accomplished in real time.\\n• Used Gradio to implement interactional 3D scene open vocabulrary semantic segmentation and point cloud reconstruction demo.\\n• Paper “NVSMask3D: Hard Visual Prompting withCamera Pose Interpolation for 3D Open Vocabulary Instance Segmentation” under review\\n• Paper Gaussian Splatting in Mirrors accepted to BMVC\\nRestaurant page @ Huaren Finland Oy\\n• React + Material UI\\n• Utilized GitHub Pages for seamless deployment and hosting, ensuring easy updates and scalability.\\n• Implemented a web scraping tool (Python) to automatically fetch restaurant menus from Wolt, integrating the data into the site for up-\\nto-date content.\\n• Created a user-friendly interface with real-time updates, providing visitors with essential restaurant information and menu options. on\\ngithub.io from private to public CI/CD\\n10-person team project: Competency, Allocation and Skill tracker @ Eficode Oy\\n• Helped DevOps consulting company Eficode Oy design a company internal task allocation web application in 10-person small team.\\n• Built user’s Google authentication (Google platform) from scratch to meet the need for cross-platform login.\\n• Designed single-page web application with React’s Material UI from scratch to avoid massive information exchange.\\n• Contributed to frontend tests using Robot Framework.\\n• Implemented Django backend APIs and unit tests.\\n• Utilized Agile methodology, specifically Scrum, in our team development.\\nMailogy @Interactional design\\n• With the final experience and feedback from users, our 5-person team designed a more optimized way of browsing emails for mobile\\nusers.Contributed to contextual inquiry and user analysis. Conducted user interviews and questionnaires to understand user needs and\\npain points.\\n• Created low-fidelity and high-fidelity wireframes and prototypes to ensure that the design meets user requirements and project goals.\\n• Organizedand execute user tests, collect feedback and make iterative improvements.\\n2D-game @Object oriented C++\\n• Contributed to the design idea of side-scrolling C++ game. Handled different level software unit tests, integration tests and GUI tests inside\\nthe Qt widget.\\nInternships\\nComputer Vision Research Intern @ AaltoVision Helsinki, Finland\\nSUPERViSOR: JUHO KANNALA June.2023 – Present\\n• Contributed to the development of various 3D vision projects and 3D vision+language projects. Published one paper with the topic of\\nnovel view synthesis in reflective condition.\\n• Published another paper with the topic of open vocablurary 3D instance segmentation (under review).\\n'"
      ]
     },
     "execution_count": 32,
     "metadata": {},
     "output_type": "execute_result"
    }
   ],
   "source": [
    "from langchain_community.document_loaders import PDFPlumberLoader\n",
    "loader = PDFPlumberLoader(\"resume 1.pdf\")\n",
    "docs = loader.load()\n",
    "\n",
    "# Check the number of pages\n",
    "print(\"Number of pages in the PDF:\",len(docs))\n",
    "\n",
    "# Load the random page content\n",
    "docs[0].page_content\n",
    "\n"
   ]
  },
  {
   "cell_type": "code",
   "execution_count": 33,
   "metadata": {},
   "outputs": [],
   "source": [
    "from langchain.text_splitter import RecursiveCharacterTextSplitter\n",
    "from langchain.docstore.document import Document\n",
    "\n",
    "full_text = \" \".join([doc.page_content for doc in docs])\n",
    "chunk_size = len(full_text) // 5\n",
    "text_splitter = RecursiveCharacterTextSplitter(chunk_size=chunk_size, chunk_overlap=0)\n",
    "chunks = text_splitter.split_text(full_text)\n",
    "documents = [Document(page_content=chunk, metadata={\"source\": \"resume 1.pdf\"}) for chunk in chunks]\n"
   ]
  },
  {
   "cell_type": "code",
   "execution_count": 34,
   "metadata": {},
   "outputs": [
    {
     "name": "stdout",
     "output_type": "stream",
     "text": [
      "Number of chunks created:  6\n",
      "\n",
      "CHUNK : 1\n",
      "Junyuan Fang\n",
      "SOFTWARE DEVELOPMENT · MULTiMODAL · DEEP LEARNiNG\n",
      "Helsinki, Finland\n",
      "Github| Linkedin\n",
      "Education\n",
      "University of Helsinki Helsinki, Finland\n",
      "MASTER OF SCiENCE iN COMPUTER SCiENCE 2023 – 2025(Feb. Expected)\n",
      "BACHELOR OF SCiENCE iN COMPUTER SCiENCE 2021 – 2023\n",
      "National University of Singapore (NUS) Singapore\n",
      "EXCHANGE iN COMPUTER SCiENCE BACHELOR STUDY 2022\n",
      "Projects\n",
      "End to end 3D scene reconstruction & open vocabulary understanding @AaltoVision\n",
      "• Used 2D vision language LLM and novel reconstruction model implemented 3D point cloud reconstruction with language feature\n",
      "embeddings in 3D, both 3D reconstruction and 3D segmentation can be accomplished in real time.\n",
      "\n",
      "CHUNK : 2\n",
      "• Used Gradio to implement interactional 3D scene open vocabulrary semantic segmentation and point cloud reconstruction demo.\n",
      "• Paper “NVSMask3D: Hard Visual Prompting withCamera Pose Interpolation for 3D Open Vocabulary Instance Segmentation” under review\n",
      "• Paper Gaussian Splatting in Mirrors accepted to BMVC\n",
      "Restaurant page @ Huaren Finland Oy\n",
      "• React + Material UI\n",
      "• Utilized GitHub Pages for seamless deployment and hosting, ensuring easy updates and scalability.\n",
      "• Implemented a web scraping tool (Python) to automatically fetch restaurant menus from Wolt, integrating the data into the site for up-\n",
      "to-date content.\n",
      "\n",
      "CHUNK : 3\n",
      "• Created a user-friendly interface with real-time updates, providing visitors with essential restaurant information and menu options. on\n",
      "github.io from private to public CI/CD\n",
      "10-person team project: Competency, Allocation and Skill tracker @ Eficode Oy\n",
      "• Helped DevOps consulting company Eficode Oy design a company internal task allocation web application in 10-person small team.\n",
      "• Built user’s Google authentication (Google platform) from scratch to meet the need for cross-platform login.\n",
      "• Designed single-page web application with React’s Material UI from scratch to avoid massive information exchange.\n",
      "• Contributed to frontend tests using Robot Framework.\n",
      "• Implemented Django backend APIs and unit tests.\n",
      "\n",
      "CHUNK : 4\n",
      "• Utilized Agile methodology, specifically Scrum, in our team development.\n",
      "Mailogy @Interactional design\n",
      "• With the final experience and feedback from users, our 5-person team designed a more optimized way of browsing emails for mobile\n",
      "users.Contributed to contextual inquiry and user analysis. Conducted user interviews and questionnaires to understand user needs and\n",
      "pain points.\n",
      "• Created low-fidelity and high-fidelity wireframes and prototypes to ensure that the design meets user requirements and project goals.\n",
      "• Organizedand execute user tests, collect feedback and make iterative improvements.\n",
      "2D-game @Object oriented C++\n",
      "\n",
      "CHUNK : 5\n",
      "• Contributed to the design idea of side-scrolling C++ game. Handled different level software unit tests, integration tests and GUI tests inside\n",
      "the Qt widget.\n",
      "Internships\n",
      "Computer Vision Research Intern @ AaltoVision Helsinki, Finland\n",
      "SUPERViSOR: JUHO KANNALA June.2023 – Present\n",
      "• Contributed to the development of various 3D vision projects and 3D vision+language projects. Published one paper with the topic of\n",
      "novel view synthesis in reflective condition.\n",
      "• Published another paper with the topic of open vocablurary 3D instance segmentation (under review).\n",
      " • Expertsed at different modalities’(image, point cloud, text) alignment for downstream tasks.\n",
      "Skills\n",
      "Programming Languages C/C++, Python, Rust, ARM, others with the help of LLMs :)\n",
      "\n",
      "CHUNK : 6\n",
      "Software Development Docker, Google platform, React, Figma, Qt, RobotFramework, PostgreSQL, Flask, MySQL, Django,\n",
      "JavaScript, HTML, CSS\n",
      "Machine Learning Gradio, PyTorch, TensorFlow, Wandb, Keras, Pysyft\n",
      "Language Chinese (native), Finnish (professional), English (professional), Swedish (beginner)\n",
      "Management & Tools Git, Poetry, LATEX, Hydra\n",
      "JULY, 2024 J.FANG · CURRiCULUM ViTAE\n"
     ]
    }
   ],
   "source": [
    "print(\"Number of chunks created: \", len(documents))\n",
    "\n",
    "# Printing first few chunks\n",
    "for i in range(len(documents)):\n",
    "    print()\n",
    "    print(f\"CHUNK : {i+1}\")\n",
    "    print(documents[i].page_content)"
   ]
  },
  {
   "cell_type": "markdown",
   "metadata": {},
   "source": [
    "Creating embeddings for each chunk by using BERT model"
   ]
  },
  {
   "cell_type": "code",
   "execution_count": 35,
   "metadata": {},
   "outputs": [],
   "source": [
    "from langchain_community.embeddings import HuggingFaceEmbeddings\n",
    "from langchain_community.vectorstores import FAISS\n",
    "\n",
    "# Instantiate the embedding model\n",
    "embedder = HuggingFaceEmbeddings(model_name=\"sentence-transformers/bert-base-nli-mean-tokens\")\n",
    "\n",
    "# Create the vector store \n",
    "vector = FAISS.from_documents(documents, embedder)"
   ]
  },
  {
   "cell_type": "markdown",
   "metadata": {},
   "source": [
    "Fetching top 4 chunks by calculating the similarity between the query and the chunks's embeddings"
   ]
  },
  {
   "cell_type": "code",
   "execution_count": 36,
   "metadata": {},
   "outputs": [
    {
     "data": {
      "text/plain": [
       "[Document(id='f3a44240-1ec3-4a80-9773-1a495c44da8a', metadata={'source': 'resume 1.pdf'}, page_content='Junyuan Fang\\nSOFTWARE DEVELOPMENT · MULTiMODAL · DEEP LEARNiNG\\nHelsinki, Finland\\nGithub| Linkedin\\nEducation\\nUniversity of Helsinki Helsinki, Finland\\nMASTER OF SCiENCE iN COMPUTER SCiENCE 2023 – 2025(Feb. Expected)\\nBACHELOR OF SCiENCE iN COMPUTER SCiENCE 2021 – 2023\\nNational University of Singapore (NUS) Singapore\\nEXCHANGE iN COMPUTER SCiENCE BACHELOR STUDY 2022\\nProjects\\nEnd to end 3D scene reconstruction & open vocabulary understanding @AaltoVision\\n• Used 2D vision language LLM and novel reconstruction model implemented 3D point cloud reconstruction with language feature\\nembeddings in 3D, both 3D reconstruction and 3D segmentation can be accomplished in real time.'),\n",
       " Document(id='caeb4522-51bc-4902-846a-caaf479f1253', metadata={'source': 'resume 1.pdf'}, page_content='• Contributed to the design idea of side-scrolling C++ game. Handled different level software unit tests, integration tests and GUI tests inside\\nthe Qt widget.\\nInternships\\nComputer Vision Research Intern @ AaltoVision Helsinki, Finland\\nSUPERViSOR: JUHO KANNALA June.2023 – Present\\n• Contributed to the development of various 3D vision projects and 3D vision+language projects. Published one paper with the topic of\\nnovel view synthesis in reflective condition.\\n• Published another paper with the topic of open vocablurary 3D instance segmentation (under review).\\n • Expertsed at different modalities’(image, point cloud, text) alignment for downstream tasks.\\nSkills\\nProgramming Languages C/C++, Python, Rust, ARM, others with the help of LLMs :)'),\n",
       " Document(id='abb3b476-4d3c-4b38-8398-2e052585ffea', metadata={'source': 'resume 1.pdf'}, page_content='Software Development Docker, Google platform, React, Figma, Qt, RobotFramework, PostgreSQL, Flask, MySQL, Django,\\nJavaScript, HTML, CSS\\nMachine Learning Gradio, PyTorch, TensorFlow, Wandb, Keras, Pysyft\\nLanguage Chinese (native), Finnish (professional), English (professional), Swedish (beginner)\\nManagement & Tools Git, Poetry, LATEX, Hydra\\nJULY, 2024 J.FANG · CURRiCULUM ViTAE'),\n",
       " Document(id='e0783928-2529-4b2f-a9a9-4464a5996a71', metadata={'source': 'resume 1.pdf'}, page_content='• Utilized Agile methodology, specifically Scrum, in our team development.\\nMailogy @Interactional design\\n• With the final experience and feedback from users, our 5-person team designed a more optimized way of browsing emails for mobile\\nusers.Contributed to contextual inquiry and user analysis. Conducted user interviews and questionnaires to understand user needs and\\npain points.\\n• Created low-fidelity and high-fidelity wireframes and prototypes to ensure that the design meets user requirements and project goals.\\n• Organizedand execute user tests, collect feedback and make iterative improvements.\\n2D-game @Object oriented C++')]"
      ]
     },
     "execution_count": 36,
     "metadata": {},
     "output_type": "execute_result"
    }
   ],
   "source": [
    "retriever = vector.as_retriever(search_type=\"similarity\", search_kwargs={\"k\": 4})\n",
    "retrieved_docs = retriever.invoke(\"Which university applicant studied for a master degree?\")\n",
    "retrieved_docs"
   ]
  },
  {
   "cell_type": "markdown",
   "metadata": {},
   "source": [
    "Loading the LLaMA 3.1 model"
   ]
  },
  {
   "cell_type": "code",
   "execution_count": 37,
   "metadata": {},
   "outputs": [],
   "source": [
    "from langchain_community.llms import Ollama\n",
    "\n",
    "llama3 = Ollama(model=\"llama3.1\")\n",
    "\n"
   ]
  },
  {
   "cell_type": "code",
   "execution_count": 38,
   "metadata": {},
   "outputs": [],
   "source": [
    "from langchain.chains import RetrievalQA\n",
    "from langchain.chains.llm import LLMChain\n",
    "from langchain.chains.combine_documents.stuff import StuffDocumentsChain\n",
    "from langchain.prompts import PromptTemplate\n",
    "\n",
    "prompt = \"\"\"\n",
    "1. Use the following pieces of context to answer the question at the end.\n",
    "2. If you don't know the answer, just say that \"I don't know\" but don't make up an answer on your own.\\n\n",
    "3. Keep the answer crisp and limited to 3,4 sentences.\n",
    "\n",
    "Context: {context}\n",
    "\n",
    "Question: {question}\n",
    "\n",
    "Helpful Answer:\"\"\"\n",
    "\n",
    "\n",
    "QA_CHAIN_PROMPT = PromptTemplate.from_template(prompt) \n",
    "\n",
    "llm_chain = LLMChain(\n",
    "                  llm=llama3, \n",
    "                  prompt=QA_CHAIN_PROMPT, \n",
    "                  callbacks=None, \n",
    "                  verbose=True)\n",
    "\n",
    "document_prompt = PromptTemplate(\n",
    "    input_variables=[\"page_content\", \"source\"],\n",
    "    template=\"Context:\\ncontent:{page_content}\\nsource:{source}\",\n",
    ")\n",
    "\n",
    "combine_documents_chain = StuffDocumentsChain(\n",
    "                  llm_chain=llm_chain,\n",
    "                  document_variable_name=\"context\",\n",
    "                  document_prompt=document_prompt,\n",
    "                  callbacks=None,\n",
    "              )\n",
    "\n",
    "qa = RetrievalQA(\n",
    "                  combine_documents_chain=combine_documents_chain,\n",
    "                  verbose=True,\n",
    "                  retriever=retriever,\n",
    "                  return_source_documents=True,\n",
    "              )"
   ]
  },
  {
   "cell_type": "code",
   "execution_count": 39,
   "metadata": {},
   "outputs": [
    {
     "name": "stdout",
     "output_type": "stream",
     "text": [
      "\n",
      "\n",
      "\u001b[1m> Entering new RetrievalQA chain...\u001b[0m\n",
      "\n",
      "\n",
      "\u001b[1m> Entering new LLMChain chain...\u001b[0m\n",
      "Prompt after formatting:\n",
      "\u001b[32;1m\u001b[1;3m\n",
      "1. Use the following pieces of context to answer the question at the end.\n",
      "2. If you don't know the answer, just say that \"I don't know\" but don't make up an answer on your own.\n",
      "\n",
      "3. Keep the answer crisp and limited to 3,4 sentences.\n",
      "\n",
      "Context: Context:\n",
      "content:Junyuan Fang\n",
      "SOFTWARE DEVELOPMENT · MULTiMODAL · DEEP LEARNiNG\n",
      "Helsinki, Finland\n",
      "Github| Linkedin\n",
      "Education\n",
      "University of Helsinki Helsinki, Finland\n",
      "MASTER OF SCiENCE iN COMPUTER SCiENCE 2023 – 2025(Feb. Expected)\n",
      "BACHELOR OF SCiENCE iN COMPUTER SCiENCE 2021 – 2023\n",
      "National University of Singapore (NUS) Singapore\n",
      "EXCHANGE iN COMPUTER SCiENCE BACHELOR STUDY 2022\n",
      "Projects\n",
      "End to end 3D scene reconstruction & open vocabulary understanding @AaltoVision\n",
      "• Used 2D vision language LLM and novel reconstruction model implemented 3D point cloud reconstruction with language feature\n",
      "embeddings in 3D, both 3D reconstruction and 3D segmentation can be accomplished in real time.\n",
      "source:resume 1.pdf\n",
      "\n",
      "Context:\n",
      "content:• Contributed to the design idea of side-scrolling C++ game. Handled different level software unit tests, integration tests and GUI tests inside\n",
      "the Qt widget.\n",
      "Internships\n",
      "Computer Vision Research Intern @ AaltoVision Helsinki, Finland\n",
      "SUPERViSOR: JUHO KANNALA June.2023 – Present\n",
      "• Contributed to the development of various 3D vision projects and 3D vision+language projects. Published one paper with the topic of\n",
      "novel view synthesis in reflective condition.\n",
      "• Published another paper with the topic of open vocablurary 3D instance segmentation (under review).\n",
      " • Expertsed at different modalities’(image, point cloud, text) alignment for downstream tasks.\n",
      "Skills\n",
      "Programming Languages C/C++, Python, Rust, ARM, others with the help of LLMs :)\n",
      "source:resume 1.pdf\n",
      "\n",
      "Context:\n",
      "content:Software Development Docker, Google platform, React, Figma, Qt, RobotFramework, PostgreSQL, Flask, MySQL, Django,\n",
      "JavaScript, HTML, CSS\n",
      "Machine Learning Gradio, PyTorch, TensorFlow, Wandb, Keras, Pysyft\n",
      "Language Chinese (native), Finnish (professional), English (professional), Swedish (beginner)\n",
      "Management & Tools Git, Poetry, LATEX, Hydra\n",
      "JULY, 2024 J.FANG · CURRiCULUM ViTAE\n",
      "source:resume 1.pdf\n",
      "\n",
      "Context:\n",
      "content:• Utilized Agile methodology, specifically Scrum, in our team development.\n",
      "Mailogy @Interactional design\n",
      "• With the final experience and feedback from users, our 5-person team designed a more optimized way of browsing emails for mobile\n",
      "users.Contributed to contextual inquiry and user analysis. Conducted user interviews and questionnaires to understand user needs and\n",
      "pain points.\n",
      "• Created low-fidelity and high-fidelity wireframes and prototypes to ensure that the design meets user requirements and project goals.\n",
      "• Organizedand execute user tests, collect feedback and make iterative improvements.\n",
      "2D-game @Object oriented C++\n",
      "source:resume 1.pdf\n",
      "\n",
      "Question: Which university applicant studied for a master degree?\n",
      "\n",
      "Helpful Answer:\u001b[0m\n",
      "\n",
      "\u001b[1m> Finished chain.\u001b[0m\n",
      "\n",
      "\u001b[1m> Finished chain.\u001b[0m\n"
     ]
    },
    {
     "data": {
      "text/plain": [
       "{'query': 'Which university applicant studied for a master degree?',\n",
       " 'result': 'Junyuan Fang studied for a Master of Science in Computer Science at the University of Helsinki. He is expected to graduate in 2025.',\n",
       " 'source_documents': [Document(id='f3a44240-1ec3-4a80-9773-1a495c44da8a', metadata={'source': 'resume 1.pdf'}, page_content='Junyuan Fang\\nSOFTWARE DEVELOPMENT · MULTiMODAL · DEEP LEARNiNG\\nHelsinki, Finland\\nGithub| Linkedin\\nEducation\\nUniversity of Helsinki Helsinki, Finland\\nMASTER OF SCiENCE iN COMPUTER SCiENCE 2023 – 2025(Feb. Expected)\\nBACHELOR OF SCiENCE iN COMPUTER SCiENCE 2021 – 2023\\nNational University of Singapore (NUS) Singapore\\nEXCHANGE iN COMPUTER SCiENCE BACHELOR STUDY 2022\\nProjects\\nEnd to end 3D scene reconstruction & open vocabulary understanding @AaltoVision\\n• Used 2D vision language LLM and novel reconstruction model implemented 3D point cloud reconstruction with language feature\\nembeddings in 3D, both 3D reconstruction and 3D segmentation can be accomplished in real time.'),\n",
       "  Document(id='caeb4522-51bc-4902-846a-caaf479f1253', metadata={'source': 'resume 1.pdf'}, page_content='• Contributed to the design idea of side-scrolling C++ game. Handled different level software unit tests, integration tests and GUI tests inside\\nthe Qt widget.\\nInternships\\nComputer Vision Research Intern @ AaltoVision Helsinki, Finland\\nSUPERViSOR: JUHO KANNALA June.2023 – Present\\n• Contributed to the development of various 3D vision projects and 3D vision+language projects. Published one paper with the topic of\\nnovel view synthesis in reflective condition.\\n• Published another paper with the topic of open vocablurary 3D instance segmentation (under review).\\n • Expertsed at different modalities’(image, point cloud, text) alignment for downstream tasks.\\nSkills\\nProgramming Languages C/C++, Python, Rust, ARM, others with the help of LLMs :)'),\n",
       "  Document(id='abb3b476-4d3c-4b38-8398-2e052585ffea', metadata={'source': 'resume 1.pdf'}, page_content='Software Development Docker, Google platform, React, Figma, Qt, RobotFramework, PostgreSQL, Flask, MySQL, Django,\\nJavaScript, HTML, CSS\\nMachine Learning Gradio, PyTorch, TensorFlow, Wandb, Keras, Pysyft\\nLanguage Chinese (native), Finnish (professional), English (professional), Swedish (beginner)\\nManagement & Tools Git, Poetry, LATEX, Hydra\\nJULY, 2024 J.FANG · CURRiCULUM ViTAE'),\n",
       "  Document(id='e0783928-2529-4b2f-a9a9-4464a5996a71', metadata={'source': 'resume 1.pdf'}, page_content='• Utilized Agile methodology, specifically Scrum, in our team development.\\nMailogy @Interactional design\\n• With the final experience and feedback from users, our 5-person team designed a more optimized way of browsing emails for mobile\\nusers.Contributed to contextual inquiry and user analysis. Conducted user interviews and questionnaires to understand user needs and\\npain points.\\n• Created low-fidelity and high-fidelity wireframes and prototypes to ensure that the design meets user requirements and project goals.\\n• Organizedand execute user tests, collect feedback and make iterative improvements.\\n2D-game @Object oriented C++')]}"
      ]
     },
     "execution_count": 39,
     "metadata": {},
     "output_type": "execute_result"
    }
   ],
   "source": [
    "qa.invoke(\"Which university applicant studied for a master degree?\")"
   ]
  },
  {
   "cell_type": "code",
   "execution_count": 40,
   "metadata": {},
   "outputs": [
    {
     "name": "stdout",
     "output_type": "stream",
     "text": [
      "\n",
      "\n",
      "\u001b[1m> Entering new RetrievalQA chain...\u001b[0m\n",
      "\n",
      "\n",
      "\u001b[1m> Entering new LLMChain chain...\u001b[0m\n",
      "Prompt after formatting:\n",
      "\u001b[32;1m\u001b[1;3m\n",
      "1. Use the following pieces of context to answer the question at the end.\n",
      "2. If you don't know the answer, just say that \"I don't know\" but don't make up an answer on your own.\n",
      "\n",
      "3. Keep the answer crisp and limited to 3,4 sentences.\n",
      "\n",
      "Context: Context:\n",
      "content:Software Development Docker, Google platform, React, Figma, Qt, RobotFramework, PostgreSQL, Flask, MySQL, Django,\n",
      "JavaScript, HTML, CSS\n",
      "Machine Learning Gradio, PyTorch, TensorFlow, Wandb, Keras, Pysyft\n",
      "Language Chinese (native), Finnish (professional), English (professional), Swedish (beginner)\n",
      "Management & Tools Git, Poetry, LATEX, Hydra\n",
      "JULY, 2024 J.FANG · CURRiCULUM ViTAE\n",
      "source:resume 1.pdf\n",
      "\n",
      "Context:\n",
      "content:Junyuan Fang\n",
      "SOFTWARE DEVELOPMENT · MULTiMODAL · DEEP LEARNiNG\n",
      "Helsinki, Finland\n",
      "Github| Linkedin\n",
      "Education\n",
      "University of Helsinki Helsinki, Finland\n",
      "MASTER OF SCiENCE iN COMPUTER SCiENCE 2023 – 2025(Feb. Expected)\n",
      "BACHELOR OF SCiENCE iN COMPUTER SCiENCE 2021 – 2023\n",
      "National University of Singapore (NUS) Singapore\n",
      "EXCHANGE iN COMPUTER SCiENCE BACHELOR STUDY 2022\n",
      "Projects\n",
      "End to end 3D scene reconstruction & open vocabulary understanding @AaltoVision\n",
      "• Used 2D vision language LLM and novel reconstruction model implemented 3D point cloud reconstruction with language feature\n",
      "embeddings in 3D, both 3D reconstruction and 3D segmentation can be accomplished in real time.\n",
      "source:resume 1.pdf\n",
      "\n",
      "Context:\n",
      "content:• Contributed to the design idea of side-scrolling C++ game. Handled different level software unit tests, integration tests and GUI tests inside\n",
      "the Qt widget.\n",
      "Internships\n",
      "Computer Vision Research Intern @ AaltoVision Helsinki, Finland\n",
      "SUPERViSOR: JUHO KANNALA June.2023 – Present\n",
      "• Contributed to the development of various 3D vision projects and 3D vision+language projects. Published one paper with the topic of\n",
      "novel view synthesis in reflective condition.\n",
      "• Published another paper with the topic of open vocablurary 3D instance segmentation (under review).\n",
      " • Expertsed at different modalities’(image, point cloud, text) alignment for downstream tasks.\n",
      "Skills\n",
      "Programming Languages C/C++, Python, Rust, ARM, others with the help of LLMs :)\n",
      "source:resume 1.pdf\n",
      "\n",
      "Context:\n",
      "content:• Created a user-friendly interface with real-time updates, providing visitors with essential restaurant information and menu options. on\n",
      "github.io from private to public CI/CD\n",
      "10-person team project: Competency, Allocation and Skill tracker @ Eficode Oy\n",
      "• Helped DevOps consulting company Eficode Oy design a company internal task allocation web application in 10-person small team.\n",
      "• Built user’s Google authentication (Google platform) from scratch to meet the need for cross-platform login.\n",
      "• Designed single-page web application with React’s Material UI from scratch to avoid massive information exchange.\n",
      "• Contributed to frontend tests using Robot Framework.\n",
      "• Implemented Django backend APIs and unit tests.\n",
      "source:resume 1.pdf\n",
      "\n",
      "Question: Which university applicant studied for a master degree, and which year he started?\n",
      "\n",
      "Helpful Answer:\u001b[0m\n",
      "\n",
      "\u001b[1m> Finished chain.\u001b[0m\n",
      "\n",
      "\u001b[1m> Finished chain.\u001b[0m\n",
      "The university applicant is Junyuan Fang. He started studying for his Master of Science in Computer Science at the University of Helsinki in 2023.\n"
     ]
    }
   ],
   "source": [
    "#qa(\"Which university applicant studied for a master degree, and which year he started?\")\n",
    "print(qa(\"Which university applicant studied for a master degree, and which year he started?\")[\"result\"])\n"
   ]
  }
 ],
 "metadata": {
  "kernelspec": {
   "display_name": "RAG",
   "language": "python",
   "name": "python3"
  },
  "language_info": {
   "codemirror_mode": {
    "name": "ipython",
    "version": 3
   },
   "file_extension": ".py",
   "mimetype": "text/x-python",
   "name": "python",
   "nbconvert_exporter": "python",
   "pygments_lexer": "ipython3",
   "version": "3.11.9"
  }
 },
 "nbformat": 4,
 "nbformat_minor": 2
}
