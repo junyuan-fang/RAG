{
 "cells": [
  {
   "cell_type": "code",
   "execution_count": 8,
   "metadata": {},
   "outputs": [
    {
     "name": "stdout",
     "output_type": "stream",
     "text": [
      "TESSDATA_PREFIX: /home/fangj1/miniconda3/envs/RAG/share/\n",
      "Estimating resolution as 283\n"
     ]
    }
   ],
   "source": [
    "import os\n",
    "print(\"TESSDATA_PREFIX:\", os.environ.get(\"TESSDATA_PREFIX\"))\n",
    "os.environ[\"TESSDATA_PREFIX\"] = \"/home/fangj1/miniconda3/envs/RAG/share/tessdata/\"\n",
    "\n",
    "! tesseract image.png output.txt -l eng"
   ]
  },
  {
   "cell_type": "code",
   "execution_count": 15,
   "metadata": {},
   "outputs": [
    {
     "name": "stdout",
     "output_type": "stream",
     "text": [
      "Extracted Text:\n",
      " To: Amazon.com From: Seagull Scientific\n",
      "6001 Bethlehem Blvd 15325 SE 30th Place\n",
      "Baltimore, MD 21219 Bellevue, WA 98007\n",
      "\n",
      "UPC: 123456789\n",
      "\n",
      "Carrier: UPS Pro# 090711935\n",
      "Bill of Lading # 0001258108\n",
      "\n",
      "1 of 6 pallets\n",
      "\n",
      "\n",
      "Structured Data in JSON Format:\n",
      " {\n",
      "    \"To\": \"Amazon.com From: Seagull Scientific 6001 Bethlehem Blvd 15325 SE 30th Place Baltimore, MD 21219 Bellevue, WA 98007\",\n",
      "    \"UPC\": \"123456789\",\n",
      "    \"Carrier\": \"UPS Pro# 090711935 Bill of Lading # 0001258108 1 of 6 pallets\"\n",
      "}\n"
     ]
    }
   ],
   "source": [
    "def ocr_extract_structured_data(image_path):\n",
    "    image = cv2.imread(image_path)\n",
    "    gray = cv2.cvtColor(image, cv2.COLOR_BGR2GRAY)\n",
    "    _, binary = cv2.threshold(gray, 150, 255, cv2.THRESH_BINARY | cv2.THRESH_OTSU)\n",
    "    extracted_text = pytesseract.image_to_string(binary, lang='eng')\n",
    "    \n",
    "    print(\"Extracted Text:\\n\", extracted_text)\n",
    "    lines = [line.strip() for line in extracted_text.splitlines() if line.strip()]\n",
    "    data = {}\n",
    "    current_key = None\n",
    "    \n",
    "    for line in lines:\n",
    "        if ':' in line:\n",
    "            key, value = line.split(':', 1)\n",
    "            current_key = key.strip()\n",
    "            data[current_key] = value.strip()\n",
    "        elif current_key:\n",
    "            data[current_key] += f\" {line.strip()}\"\n",
    "    \n",
    "    return json.dumps(data, indent=4, ensure_ascii=False)\n",
    "\n",
    "image_path = \"./image.png\"  \n",
    "structured_data = ocr_extract_structured_data(image_path)\n",
    "print(\"Structured Data in JSON Format:\\n\", structured_data)"
   ]
  }
 ],
 "metadata": {
  "kernelspec": {
   "display_name": "RAG",
   "language": "python",
   "name": "python3"
  },
  "language_info": {
   "codemirror_mode": {
    "name": "ipython",
    "version": 3
   },
   "file_extension": ".py",
   "mimetype": "text/x-python",
   "name": "python",
   "nbconvert_exporter": "python",
   "pygments_lexer": "ipython3",
   "version": "3.11.9"
  }
 },
 "nbformat": 4,
 "nbformat_minor": 2
}
